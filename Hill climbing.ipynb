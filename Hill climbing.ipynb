{
 "cells": [
  {
   "cell_type": "code",
   "execution_count": 3,
   "id": "709d3dd3",
   "metadata": {},
   "outputs": [
    {
     "name": "stdout",
     "output_type": "stream",
     "text": [
      "Best path from S to G: S -> B -> A -> D -> G\n"
     ]
    }
   ],
   "source": [
    "# Define the graph as an adjacency list with neighbors\n",
    "graph = {\n",
    "    'S': ['A', 'B'],\n",
    "    'A': ['S', 'D', 'B'],\n",
    "    'D': ['A', 'G'],\n",
    "    'G': ['D'],\n",
    "    'B': ['S', 'A', 'C'],\n",
    "    'C': ['B', 'E'],\n",
    "    'E': ['C']\n",
    "}\n",
    "\n",
    "# Heuristic function estimating remaining distance (e.g., Euclidean distance)\n",
    "heuristic = {'S': 10, 'A': 7, 'D': 5, 'G': 0, 'B': 6, 'C': 7, 'E': 7}\n",
    "\n",
    "def evaluate_solution(path, heuristic):\n",
    "    total_heuristic = sum(heuristic[node] for node in path)\n",
    "    return total_heuristic\n",
    "\n",
    "def hill_climbing_with_heuristic(graph, source, destination, heuristic):\n",
    "    current_solution = [source]\n",
    "    current_heuristic = heuristic[source]\n",
    "\n",
    "    while current_solution[-1] != destination:\n",
    "        neighbors = graph[current_solution[-1]]\n",
    "\n",
    "        # Sort neighbors based on heuristic\n",
    "        neighbors.sort(key=lambda neighbor: heuristic[neighbor])\n",
    "\n",
    "        # Select the neighbor with the smallest heuristic\n",
    "        next_neighbor = neighbors[0]\n",
    "\n",
    "        # Move to the selected neighbor\n",
    "        current_solution.append(next_neighbor)\n",
    "        current_heuristic = heuristic[next_neighbor]\n",
    "\n",
    "    return current_solution\n",
    "\n",
    "source = 'S'\n",
    "destination = 'G'\n",
    "\n",
    "initial_solution = [source]\n",
    "\n",
    "best_solution = hill_climbing_with_heuristic(graph, source, destination, heuristic)\n",
    "\n",
    "if best_solution:\n",
    "    print(f\"Best path from {source} to {destination}: {' -> '.join(best_solution)}\")\n",
    "    #print(f\"Total heuristic: {evaluate_solution(best_solution, heuristic)}\")\n",
    "else:\n",
    "    print(f\"No path from {source} to {destination}\")"
   ]
  },
  {
   "cell_type": "code",
   "execution_count": null,
   "id": "1e9c390a",
   "metadata": {},
   "outputs": [],
   "source": []
  }
 ],
 "metadata": {
  "kernelspec": {
   "display_name": "Python 3 (ipykernel)",
   "language": "python",
   "name": "python3"
  },
  "language_info": {
   "codemirror_mode": {
    "name": "ipython",
    "version": 3
   },
   "file_extension": ".py",
   "mimetype": "text/x-python",
   "name": "python",
   "nbconvert_exporter": "python",
   "pygments_lexer": "ipython3",
   "version": "3.9.17"
  }
 },
 "nbformat": 4,
 "nbformat_minor": 5
}
