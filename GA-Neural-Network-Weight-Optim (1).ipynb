{
 "cells": [
  {
   "cell_type": "code",
   "execution_count": 1,
   "id": "ba9f179a",
   "metadata": {},
   "outputs": [],
   "source": [
    "## Importing Packages\n",
    "import numpy as np\n",
    "import pandas as pd\n",
    "import random\n",
    "from sklearn.metrics import accuracy_score,classification_report\n",
    "from sklearn.preprocessing import StandardScaler\n",
    "from sklearn.model_selection import train_test_split"
   ]
  },
  {
   "cell_type": "code",
   "execution_count": 14,
   "id": "87867358",
   "metadata": {},
   "outputs": [
    {
     "data": {
      "text/html": [
       "<div>\n",
       "<style scoped>\n",
       "    .dataframe tbody tr th:only-of-type {\n",
       "        vertical-align: middle;\n",
       "    }\n",
       "\n",
       "    .dataframe tbody tr th {\n",
       "        vertical-align: top;\n",
       "    }\n",
       "\n",
       "    .dataframe thead th {\n",
       "        text-align: right;\n",
       "    }\n",
       "</style>\n",
       "<table border=\"1\" class=\"dataframe\">\n",
       "  <thead>\n",
       "    <tr style=\"text-align: right;\">\n",
       "      <th></th>\n",
       "      <th>ID</th>\n",
       "      <th>Age</th>\n",
       "      <th>Experience</th>\n",
       "      <th>Income</th>\n",
       "      <th>ZIP Code</th>\n",
       "      <th>Family</th>\n",
       "      <th>CCAvg</th>\n",
       "      <th>Education</th>\n",
       "      <th>Mortgage</th>\n",
       "      <th>Personal Loan</th>\n",
       "      <th>Securities Account</th>\n",
       "      <th>CD Account</th>\n",
       "      <th>Online</th>\n",
       "      <th>CreditCard</th>\n",
       "    </tr>\n",
       "  </thead>\n",
       "  <tbody>\n",
       "    <tr>\n",
       "      <th>0</th>\n",
       "      <td>1</td>\n",
       "      <td>25</td>\n",
       "      <td>1</td>\n",
       "      <td>49</td>\n",
       "      <td>91107</td>\n",
       "      <td>4</td>\n",
       "      <td>1.6</td>\n",
       "      <td>1</td>\n",
       "      <td>0</td>\n",
       "      <td>0</td>\n",
       "      <td>1</td>\n",
       "      <td>0</td>\n",
       "      <td>0</td>\n",
       "      <td>0</td>\n",
       "    </tr>\n",
       "    <tr>\n",
       "      <th>1</th>\n",
       "      <td>2</td>\n",
       "      <td>45</td>\n",
       "      <td>19</td>\n",
       "      <td>34</td>\n",
       "      <td>90089</td>\n",
       "      <td>3</td>\n",
       "      <td>1.5</td>\n",
       "      <td>1</td>\n",
       "      <td>0</td>\n",
       "      <td>0</td>\n",
       "      <td>1</td>\n",
       "      <td>0</td>\n",
       "      <td>0</td>\n",
       "      <td>0</td>\n",
       "    </tr>\n",
       "    <tr>\n",
       "      <th>2</th>\n",
       "      <td>3</td>\n",
       "      <td>39</td>\n",
       "      <td>15</td>\n",
       "      <td>11</td>\n",
       "      <td>94720</td>\n",
       "      <td>1</td>\n",
       "      <td>1.0</td>\n",
       "      <td>1</td>\n",
       "      <td>0</td>\n",
       "      <td>0</td>\n",
       "      <td>0</td>\n",
       "      <td>0</td>\n",
       "      <td>0</td>\n",
       "      <td>0</td>\n",
       "    </tr>\n",
       "    <tr>\n",
       "      <th>3</th>\n",
       "      <td>4</td>\n",
       "      <td>35</td>\n",
       "      <td>9</td>\n",
       "      <td>100</td>\n",
       "      <td>94112</td>\n",
       "      <td>1</td>\n",
       "      <td>2.7</td>\n",
       "      <td>2</td>\n",
       "      <td>0</td>\n",
       "      <td>0</td>\n",
       "      <td>0</td>\n",
       "      <td>0</td>\n",
       "      <td>0</td>\n",
       "      <td>0</td>\n",
       "    </tr>\n",
       "    <tr>\n",
       "      <th>4</th>\n",
       "      <td>5</td>\n",
       "      <td>35</td>\n",
       "      <td>8</td>\n",
       "      <td>45</td>\n",
       "      <td>91330</td>\n",
       "      <td>4</td>\n",
       "      <td>1.0</td>\n",
       "      <td>2</td>\n",
       "      <td>0</td>\n",
       "      <td>0</td>\n",
       "      <td>0</td>\n",
       "      <td>0</td>\n",
       "      <td>0</td>\n",
       "      <td>1</td>\n",
       "    </tr>\n",
       "  </tbody>\n",
       "</table>\n",
       "</div>"
      ],
      "text/plain": [
       "   ID  Age  Experience  Income  ZIP Code  Family  CCAvg  Education  Mortgage  \\\n",
       "0   1   25           1      49     91107       4    1.6          1         0   \n",
       "1   2   45          19      34     90089       3    1.5          1         0   \n",
       "2   3   39          15      11     94720       1    1.0          1         0   \n",
       "3   4   35           9     100     94112       1    2.7          2         0   \n",
       "4   5   35           8      45     91330       4    1.0          2         0   \n",
       "\n",
       "   Personal Loan  Securities Account  CD Account  Online  CreditCard  \n",
       "0              0                   1           0       0           0  \n",
       "1              0                   1           0       0           0  \n",
       "2              0                   0           0       0           0  \n",
       "3              0                   0           0       0           0  \n",
       "4              0                   0           0       0           1  "
      ]
     },
     "execution_count": 14,
     "metadata": {},
     "output_type": "execute_result"
    }
   ],
   "source": [
    "## Data Loading\n",
    "data = pd.read_csv(\"Bank_Personal_Loan_Modelling.csv\")\n",
    "data.head()"
   ]
  },
  {
   "cell_type": "code",
   "execution_count": 15,
   "id": "dc70ee59",
   "metadata": {},
   "outputs": [],
   "source": [
    "x = data.drop(['Personal Loan', 'ID', 'ZIP Code'], axis=1)  ##Indepent Var\n",
    "y = data['Personal Loan'].values ## Dependent var"
   ]
  },
  {
   "cell_type": "code",
   "execution_count": 16,
   "id": "edb98d3b",
   "metadata": {},
   "outputs": [],
   "source": [
    "x_train, x_test, y_train, y_test = train_test_split(x, y, test_size=0.2, random_state=1)"
   ]
  },
  {
   "cell_type": "code",
   "execution_count": 17,
   "id": "d5df3572",
   "metadata": {},
   "outputs": [],
   "source": [
    "## Feature Scalling\n",
    "sc = StandardScaler()\n",
    "x_train = sc.fit_transform(x_train)\n",
    "x_test = sc.transform(x_test)"
   ]
  },
  {
   "cell_type": "code",
   "execution_count": 18,
   "id": "8801ee75",
   "metadata": {},
   "outputs": [],
   "source": [
    "class NeuralNetwork:\n",
    "    def __init__(self, layer_size, weights):\n",
    "        self.input_size = layer_size[0]\n",
    "        self.hidden1_size = layer_size[1]\n",
    "        self.output_size = layer_size[2]\n",
    "\n",
    "        self.weights = weights\n",
    "\n",
    "        self.W1_size = self.input_size * self.hidden1_size\n",
    "        self.W2_size = self.hidden1_size * self.output_size\n",
    "\n",
    "        self.w1 = self.weights[:self.W1_size].reshape(self.input_size, self.hidden1_size)\n",
    "        self.w2 = self.weights[self.W1_size: self.W1_size + self.W2_size].reshape(self.hidden1_size, self.output_size)\n",
    "\n",
    "\n",
    "    def forwardPropagation(self, X):\n",
    "        self.z2 = np.dot(X, self.w1)\n",
    "        self.a2 = reLU(self.z2)\n",
    "\n",
    "        self.z3 = np.dot(self.a2, self.w2)\n",
    "        output = sigmoid(self.z3)\n",
    "\n",
    "        return output"
   ]
  },
  {
   "cell_type": "code",
   "execution_count": 19,
   "id": "e0f65a60",
   "metadata": {},
   "outputs": [],
   "source": [
    "##Activation Functions\n",
    "def sigmoid(z):\n",
    "    return 1.0 / (1 + np.exp(-z))\n",
    "\n",
    "def reLU(z):\n",
    "    return np.maximum(0.0, z)"
   ]
  },
  {
   "cell_type": "code",
   "execution_count": 20,
   "id": "2881f1ab",
   "metadata": {},
   "outputs": [],
   "source": [
    "layer_size = [11, 8, 1]\n",
    "tot_weights = layer_size[0] * layer_size[1] + layer_size[1] * layer_size[2]"
   ]
  },
  {
   "cell_type": "code",
   "execution_count": 21,
   "id": "9748c39d",
   "metadata": {},
   "outputs": [],
   "source": [
    "## Fitness Function Definition\n",
    "def fitness(weight):\n",
    "    nn = NeuralNetwork(layer_size, weight)\n",
    "    y_pred = nn.forwardPropagation(x_train)\n",
    "    return accuracy_score(np.round(y_pred), y_train)"
   ]
  },
  {
   "cell_type": "code",
   "execution_count": 22,
   "id": "d1747f65",
   "metadata": {},
   "outputs": [],
   "source": [
    "## EA Params\n",
    "population = 500\n",
    "epochs = 20\n",
    "pool_size = 20"
   ]
  },
  {
   "cell_type": "code",
   "execution_count": 23,
   "id": "c4798e91",
   "metadata": {},
   "outputs": [],
   "source": [
    "def init_population():\n",
    "    weight_pop = []\n",
    "    for _ in range(population):\n",
    "        weight_pop.append(np.random.uniform(-2, 2, tot_weights))\n",
    "\n",
    "    return np.array(weight_pop)\n",
    "\n",
    "np.random.seed(7)\n",
    "initial_population = init_population()"
   ]
  },
  {
   "cell_type": "code",
   "execution_count": 24,
   "id": "73922df3",
   "metadata": {},
   "outputs": [],
   "source": [
    "def random_selection(population):\n",
    "    mating_pool = population[:pool_size]\n",
    "    return mating_pool"
   ]
  },
  {
   "cell_type": "code",
   "execution_count": 25,
   "id": "214278e3",
   "metadata": {},
   "outputs": [],
   "source": [
    "def crossover(mating_pool):\n",
    "    children = []\n",
    "\n",
    "    while len(mating_pool):\n",
    "        p1_index, p2_index = np.random.choice(mating_pool.shape[0], 2, replace=False)\n",
    "        p1, p2 = mating_pool[p1_index, :], mating_pool[p2_index, :]\n",
    "        r = random.uniform(0, 1)\n",
    "        s = random.uniform(-1, 0)\n",
    "        c1 = r * p1 + s * p2\n",
    "        c2 = s * p2 + r * p1\n",
    "        children.extend([c1, c2])\n",
    "        mating_pool = np.delete(mating_pool, [p1_index, p2_index], axis=0)\n",
    "    return np.array(children)"
   ]
  },
  {
   "cell_type": "code",
   "execution_count": 26,
   "id": "1604a012",
   "metadata": {},
   "outputs": [],
   "source": [
    "def mutation(children):\n",
    "    mut_mat = np.random.uniform(0.75, 1.25, children.shape)\n",
    "    children = mut_mat * children\n",
    "    return children"
   ]
  },
  {
   "cell_type": "code",
   "execution_count": 27,
   "id": "16c957d0",
   "metadata": {},
   "outputs": [],
   "source": [
    "def replace_population(child_population, current_population):\n",
    "    next_population = np.append(current_population[:population - pool_size], child_population, axis=0)\n",
    "    next_population = np.array(sorted(next_population, key=lambda x: fitness(x), reverse=True))\n",
    "    return next_population"
   ]
  },
  {
   "cell_type": "code",
   "execution_count": 28,
   "id": "8f8f693c",
   "metadata": {},
   "outputs": [
    {
     "name": "stdout",
     "output_type": "stream",
     "text": [
      "Best fitness of Generation 1: 0.90625\n",
      "Best fitness of Generation 2: 0.90625\n",
      "Best fitness of Generation 3: 0.90625\n",
      "Best fitness of Generation 4: 0.90625\n",
      "Best fitness of Generation 5: 0.90625\n",
      "Best fitness of Generation 6: 0.90625\n",
      "Best fitness of Generation 7: 0.90625\n",
      "Best fitness of Generation 8: 0.90625\n",
      "Best fitness of Generation 9: 0.90625\n",
      "Best fitness of Generation 10: 0.90625\n",
      "Best fitness of Generation 11: 0.90775\n",
      "Best fitness of Generation 12: 0.90775\n",
      "Best fitness of Generation 13: 0.90775\n",
      "Best fitness of Generation 14: 0.90875\n",
      "Best fitness of Generation 15: 0.90875\n",
      "Best fitness of Generation 16: 0.909\n",
      "Best fitness of Generation 17: 0.909\n",
      "Best fitness of Generation 18: 0.909\n",
      "Best fitness of Generation 19: 0.909\n",
      "Best fitness of Generation 20: 0.909\n"
     ]
    }
   ],
   "source": [
    "final = 0\n",
    "fit_plt = []\n",
    "current_population = np.array(sorted(initial_population, key=lambda x: fitness(x), reverse=True))\n",
    "for i in range(epochs):\n",
    "    mating_pool = random_selection(current_population)\n",
    "    children = crossover(mating_pool)\n",
    "    children = mutation(children)\n",
    "    current_population = replace_population(children, current_population)\n",
    "    final = current_population[0]\n",
    "    final_fit = fitness(final)\n",
    "    print(f\"Best fitness of Generation {i + 1}: {final_fit}\")\n",
    "    fit_plt.append(final_fit)"
   ]
  },
  {
   "cell_type": "code",
   "execution_count": 29,
   "id": "d96b7e46",
   "metadata": {},
   "outputs": [
    {
     "name": "stdout",
     "output_type": "stream",
     "text": [
      "              precision    recall  f1-score   support\n",
      "\n",
      "         0.0       1.00      0.90      0.95       996\n",
      "         1.0       0.03      0.75      0.06         4\n",
      "\n",
      "    accuracy                           0.90      1000\n",
      "   macro avg       0.51      0.83      0.50      1000\n",
      "weighted avg       1.00      0.90      0.94      1000\n",
      "\n"
     ]
    }
   ],
   "source": [
    "nn = NeuralNetwork(layer_size, final)\n",
    "out = nn.forwardPropagation(x_test)\n",
    "print(classification_report(np.round(out), y_test))"
   ]
  }
 ],
 "metadata": {
  "kernelspec": {
   "display_name": "Python 3 (ipykernel)",
   "language": "python",
   "name": "python3"
  },
  "language_info": {
   "codemirror_mode": {
    "name": "ipython",
    "version": 3
   },
   "file_extension": ".py",
   "mimetype": "text/x-python",
   "name": "python",
   "nbconvert_exporter": "python",
   "pygments_lexer": "ipython3",
   "version": "3.9.17"
  }
 },
 "nbformat": 4,
 "nbformat_minor": 5
}
